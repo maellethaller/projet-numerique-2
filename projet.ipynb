{
 "metadata": {
  "language_info": {
   "codemirror_mode": {
    "name": "ipython",
    "version": 3
   },
   "file_extension": ".py",
   "mimetype": "text/x-python",
   "name": "python",
   "nbconvert_exporter": "python",
   "pygments_lexer": "ipython3",
   "version": 3
  },
  "orig_nbformat": 2
 },
 "nbformat": 4,
 "nbformat_minor": 2,
 "cells": [
  {
   "source": [],
   "cell_type": "code",
   "metadata": {},
   "execution_count": null,
   "outputs": [
    {
     "output_type": "error",
     "ename": "Error",
     "evalue": "IPyKernel not installed into interpreter Python 3.8.5 64-bit:C:\\Users\\Maëlle\\.conda\\envs\\snake\\python.exe",
     "traceback": [
      "Error: IPyKernel not installed into interpreter Python 3.8.5 64-bit:C:\\Users\\Maëlle\\.conda\\envs\\snake\\python.exe",
      "at I.installDependenciesIntoInterpreter (c:\\Users\\Maëlle\\.vscode\\extensions\\ms-toolsai.jupyter-2020.12.414227025\\out\\client\\extension.js:1:209187)",
      "at runMicrotasks (<anonymous>)",
      "at processTicksAndRejections (internal/process/task_queues.js:94:5)",
      "at async I.getKernelForLocalRawConnection (c:\\Users\\Maëlle\\.vscode\\extensions\\ms-toolsai.jupyter-2020.12.414227025\\out\\client\\extension.js:1:208204)"
     ]
    }
   ]
  },
  {
   "source": [
    "$$\n",
    "\\fbox{Projet Numérique: équations différentielles}\n",
    "$$\n",
    "$\\underline{Mathilde~Ceripa~et~Maëlle~Thaller}$"
   ],
   "cell_type": "markdown",
   "metadata": {}
  },
  {
   "source": [
    "Les équations de Lotka-Volterra, ou “modèle proie-prédateur”, sont courammentutilisées pour décrire la dynamique de systèmes biologiques dans lesquels unprédateur et sa proie interagissent dans un milieu commun. Elles ont été proposéesindépendamment par A. J. Lotka en 1925 et V. Volterra en 1926 et s’écrivent dela manière suivante : ̇\n",
    "$$\n",
    "\\left\\{ \n",
    "     \\begin{array}\n",
    "        \\\\{x_1}={x_1}(α−β \\cdot {x_2})\\\\\n",
    "        {x_2}=−{x_2}(γ−δ \\cdot {x_1})\n",
    "    \\end{array}\n",
    "\\right.\n",
    "$$\n",
    "où ${x_1}$ et ${x_2}$ désignent le nombre (positif) de proies et de prédateurs respectivement et $α,β,γ,δ$ sont des paramètres strictement positifs."
   ],
   "cell_type": "markdown",
   "metadata": {}
  },
  {
   "source": [
    "$\\underline{Question~1:}$ \n",
    "\n",
    "Donner une interprétation physique à chaque terme de la dynamique.Montrer qu’il existe deux points d’équilibre $(0,0)$ et ̄$̄x \\in \\mathbb{R_{>0}}×\\mathbb{R_{>0}}$. Que peut-on dire de leur stabilité à ce stade ?\n",
    "\n",
    "En identifiant dans les équations différentielles ci-dessus les différents termes, on peut affirmer que:\n",
    "\n"
   ],
   "cell_type": "markdown",
   "metadata": {}
  }
 ]
}