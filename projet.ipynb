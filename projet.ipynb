{
 "cells": [
  {
   "cell_type": "markdown",
   "metadata": {},
   "source": [
    "$$\n",
    "\\fbox{Projet Numérique: équations différentielles}\n",
    "$$\n",
    "$\\underline{Mathilde~Ceripa~et~Maëlle~Thaller}$"
   ]
  },
  {
   "cell_type": "markdown",
   "metadata": {},
   "source": [
    "Les équations de Lotka-Volterra, ou “modèle proie-prédateur”, sont courammentutilisées pour décrire la dynamique de systèmes biologiques dans lesquels unprédateur et sa proie interagissent dans un milieu commun. Elles ont été proposéesindépendamment par A. J. Lotka en 1925 et V. Volterra en 1926 et s’écrivent dela manière suivante : ̇\n",
    "$$\n",
    "\\left\\{ \n",
    "     \\begin{array}\n",
    "        \\\\{x'_1}={x_1}(α−β \\cdot {x_2})\\\\\n",
    "        {x'_2}=−{x_2}(γ−δ \\cdot {x_1})\n",
    "    \\end{array}\n",
    "\\right.\n",
    "$$\n",
    "où ${x_1}$ et ${x_2}$ désignent le nombre (positif) de proies et de prédateurs respectivement et $α,β,γ,δ$ sont des paramètres strictement positifs."
   ]
  },
  {
   "cell_type": "markdown",
   "metadata": {},
   "source": [
    "$\\underline{inventaire~des~fonctions~du~cours~utilisées~dans~le~projet~:}$"
   ]
  },
  {
   "cell_type": "code",
   "execution_count": null,
   "metadata": {},
   "outputs": [],
   "source": [
    "import matplotlib.pyplot as plt\n",
    "import numpy as np\n",
    "from math import *\n",
    "\n",
    "def Q(f, xs, ys):\n",
    "    X, Y = np.meshgrid(xs, ys)\n",
    "    fx = np.vectorize(lambda x, y: f([x, y])[0])\n",
    "    fy = np.vectorize(lambda x, y: f([x, y])[1])\n",
    "    return X, Y, fx(X, Y), fy(X, Y)\n",
    "\n",
    "alpha=2/3, beta=4/3, gamma=1, delta=1 #valeurs trouvées sur wikipédia"
   ]
  },
  {
   "cell_type": "markdown",
   "metadata": {},
   "source": [
    "$\\underline{Question~1:}$ \n",
    "\n",
    "Donner une interprétation physique à chaque terme de la dynamique. Montrer qu’il existe deux points d’équilibre $(0,0)$ et ̄$̄x \\in \\mathbb{R_{>0}}×\\mathbb{R_{>0}}$. Que peut-on dire de leur stabilité à ce stade ?\n",
    "\n",
    "En identifiant dans les équations différentielles ci-dessus les différents termes, on peut affirmer que:\n",
    "$$\n",
    "\\left\\{ \n",
    "     \\begin{array}\n",
    "        \\ \\alpha: taux ~ de ~ reproduction ~ chez ~ les ~ proies\\\\\n",
    "        \\beta: taux~ de ~ mortalité~chez~les~proies~à~cause~des~prodateurs~(fonction ~ de~ la fréquence~ de ~ leurs ~roncontres)\\\\\n",
    "        \\gamma: taux ~ de ~ mortalité~naturelle~chez~les~prédateurs\\\\\n",
    "        \\delta: taux~de~reproduction~chez~les~prédateurs~(fonction~des~proies~rencontrées~et~mangées)\n",
    "    \\end{array}\n",
    "\\right.\n",
    "$$\n",
    "\n",
    "On souhaite à présent montrer qu'il existe deux points d'équilibre dans cette situation. On rappelle qu'on peut modéliser la situation ainsi:\n",
    "On pose: \n",
    "$$\n",
    "\\overrightarrow{x}=\\begin{pmatrix} \n",
    "    {x_1} \\\\ \n",
    "    {x_2} \n",
    "\\end{pmatrix}\n",
    "$$\n",
    "et: \n",
    "$$\n",
    "f(\\overrightarrow{x})=\\begin{pmatrix} \n",
    "    {x_1} \\cdot \\alpha - \\beta \\cdot {x_2} \\cdot {x_1}\\\\ \n",
    "    -{x_2} \\cdot \\gamma + {x_2} \\cdot \\delta \\cdot {x_1}\n",
    "\\end{pmatrix}\n",
    "$$\n",
    "On obtient alors l'équation différentielle suivante:\n",
    "$$\n",
    "\\overrightarrow{x'}=f(\\overrightarrow{x})\n",
    "$$\n",
    "Montrer qu'il existe deux points d'équilibre $̄x$ et $(0,0)$ revient alors à montrer que pour ces deux points: $f(\\overrightarrow{x})=0$.\n",
    "\n",
    "- On prend tout d'abord: $({x_1},{x_2})=(0,0)$. On a alors: \n",
    "$$\n",
    "f(\\overrightarrow{x})=\\begin{pmatrix} \n",
    "    0 \\cdot \\alpha - \\beta \\cdot 0 \\cdot 0\\\\ \n",
    "    -0 \\cdot \\gamma + 0 \\cdot \\delta \\cdot 0\n",
    "\\end{pmatrix} = \\begin{pmatrix} \n",
    "    0 \\\\ \n",
    "    0\n",
    "\\end{pmatrix}\n",
    "$$\n",
    "Le couple $(0,0)$ est donc bien un point d'équilibre. \n",
    "\n",
    "- On pose à présent: $̄x=({x_1},{x_2})$. Il s'agit alors de résoudre le système suivant:\n",
    "$$\n",
    "\\left\\{ \n",
    "     \\begin{array}\n",
    "        \\  {x_1} \\cdot \\alpha - \\beta \\cdot {x_2} \\cdot {x_1}=0 \\\\\n",
    "        -{x_2} \\cdot \\gamma + {x_2} \\cdot \\delta \\cdot {x_1} =0 \\\\\n",
    "        {x_1}>0 \\\\\n",
    "        {x_2}>0\n",
    "    \\end{array}\n",
    "\\right.\n",
    "$$\n",
    "Il existe une solution à ce système, donc il existe bien un deuxième point d'équilibre $̄x=({x_1},{x_2})$ tel que ${x_1}>0$ et ${x_2}>0$ : \n",
    "$$\n",
    "\\overrightarrow{x}=\\begin{pmatrix} \n",
    "    \\frac{\\gamma}{\\delta} \\\\ \n",
    "    \\frac{\\alpha}{\\beta}\n",
    "\\end{pmatrix}\n",
    "$$\n",
    "\n",
    "Pour étudier la stabilité de ces points d'équilibre, on va s'intéresser aux valeurs propres de la jacobienne de f évaluée en ces deux points,car $f:X→\\mathbb{R_{2}}$ est continûment différentiable: \n",
    "$$\n",
    "{J_f}=\\begin{pmatrix} \n",
    "    \\alpha - \\beta \\cdot {x_2} & -\\beta \\cdot {x_1}\\\\ \n",
    "    \\delta \\cdot {x_2} & -\\gamma + \\delta \\cdot {x_1}\n",
    "\\end{pmatrix} \n",
    "$$\n",
    "\n",
    "On a alors:\n",
    "- En $({x_1},{x_2})=(0,0)$:\n",
    "$$\n",
    "Jf(0,0)=\\begin{pmatrix} \n",
    "    \\alpha & 0\\\\ \n",
    "    0 & -\\gamma \n",
    "\\end{pmatrix}\n",
    "$$ \n",
    "qui a pour valeurs propres: ${\\lambda_1}=\\alpha$ et ${\\lambda_2}=-\\gamma$. Or, on sait que si une des parties réelles de ${\\lambda_1}$ ou ${\\lambda_2}$ est strictement positive, ce qui est le cas ici, le point d'équilibre est instable. Le point $(0,0)$ est donc $\\underline{instable}$.\n",
    "- En $({x_1},{x_2})=(\\frac{\\gamma}{\\delta},\\frac{\\alpha}{\\beta})$ :\n",
    "$$\n",
    "Jf(\\frac{\\gamma}{\\delta},\\frac{\\alpha}{\\beta})=\\begin{pmatrix} \n",
    "    0 & -\\delta \\cdot \\frac{\\gamma}{\\delta}\\\\ \n",
    "    \\delta \\cdot \\frac{\\alpha}{\\beta} & 0\n",
    "\\end{pmatrix}\n",
    "$$ \n",
    "Après des caluls non détaillés ici, on obtient les valeurs propres suivantes: ${\\lambda_1}=i \\sqrt(\\alpha \\cdot \\gamma)$ et ${\\lambda_2}=-i \\sqrt(\\alpha \\cdot \\gamma)$. Ici, les deux parties réelles des valeurs propres sont nulles, et on ne peut donc pas en conclure la stabilité du point $x$ pour le moment."
   ]
  },
  {
   "cell_type": "markdown",
   "metadata": {},
   "source": [
    "$\\underline{Question~2:}$\n",
    "\n",
    "A l’aide des fonctions $meshgrid$ et $quiver$, visualiser graphiquement le champ de vecteurs. Intuiter le comportement des solutions. On pourra aussi utiliser $streamplot$ pour visualiser le portrait de phase."
   ]
  },
  {
   "cell_type": "code",
   "execution_count": null,
   "metadata": {},
   "outputs": [],
   "source": [
    "def f(x):\n",
    "    x1,x2=x\n",
    "    dx1=x1*2/3-4/3*x1*x2\n",
    "    dx2=-x2*1+x2*x1*1\n",
    "    return np.array([dx1,dx2])\n",
    "\n",
    "'''champ de vecteurs'''\n",
    "figure,ax=plt.subplots()\n",
    "\n",
    "x1=np.linspace(0,5,50)\n",
    "x2=np.linspace(0,5,50)\n",
    "X,Y=np.meshgrid(x1,x2)\n",
    "Z1,Z2=f([X,Y])\n",
    "plt.quiver(X,Y,Z1,Z2)\n",
    "plt.grid(True)\n",
    "plt.title('champ de vecteurs')\n",
    "plt.show();"
   ]
  },
  {
   "cell_type": "code",
   "execution_count": null,
   "metadata": {},
   "outputs": [],
   "source": [
    "'''portrait de phase'''\n",
    "plt.figure()\n",
    "x1=np.linspace(0,4,100)\n",
    "x2=np.linspace(0,2.5,100)\n",
    "plt.grid(True)\n",
    "plt.title('portrait de phase')\n",
    "plt.xlabel('proies')\n",
    "plt.ylabel('prédateurs')\n",
    "plt.xticks([0, 1,2,3,4], [\"$0$\", \"$1$\", \"$2$\",\"$3$\",\"$4$\"])\n",
    "plt.streamplot(*Q(f, x1, x2), color=\"k\") ;"
   ]
  },
  {
   "source": [
    "On observe grâce aux courbes précédentes que le portrait de phase présente des courbes fermées, ovales. On peut donc en déduire que les solutions seront périodiques. La forme non ronde de ces dernière suggère que l'évolution des deux populations est liée mais se fait de façon décalée, non simultanée. "
   ],
   "cell_type": "markdown",
   "metadata": {}
  },
  {
   "source": [
    "$\\underline{Question~3:}$\n",
    "\n",
    "Par le théorème de Cauchy-Lipschitz, démontrer que toute solution initialisée dans $\\mathbb{R_{>0}}×\\mathbb{R_{>0}}$ reste dans $\\mathbb{R_{>0}}×\\mathbb{R_{>0}}$ sur son ensemble de définition (ce qui est nécessaire pour que ${x_1}$ et ${x_2}$ représentent des populations réelles).\n",
    "\n",
    "On sait que la fonction $f:X→\\mathbb{R_{2}}$ explicitée précédemment est continuement différentiable. Ainsi, d'après le théorème de Cauchy Lipschitz, on peut affirmer que pour tout $\\overrightarrow{x_0} \\in \\mathbb{R_{>0}}×\\mathbb{R_{>0}}$, il existe une unique solution maximale $\\overrightarrow{x}$ dans ${S_f}(\\overrightarrow{x_0})$. "
   ],
   "cell_type": "markdown",
   "metadata": {}
  },
  {
   "source": [
    "$\\underline{Question~5:}$\n",
    "\n",
    "Représenter les courbes de niveau de H. Qu’en conclue-t-on sur le comportement des solutions ?\n",
    "\n",
    "\n"
   ],
   "cell_type": "markdown",
   "metadata": {}
  },
  {
   "cell_type": "code",
   "execution_count": null,
   "metadata": {},
   "outputs": [],
   "source": [
    "def H(x):\n",
    "    x1,x2=x\n",
    "    return delta*x1-gamma*ln(x1)+beta*x2-alpha*ln(x2)"
   ]
  },
  {
   "cell_type": "code",
   "execution_count": null,
   "metadata": {},
   "outputs": [],
   "source": []
  }
 ],
 "metadata": {
  "kernelspec": {
   "display_name": "Python 3",
   "language": "python",
   "name": "python3"
  },
  "language_info": {
   "codemirror_mode": {
    "name": "ipython",
    "version": 3
   },
   "file_extension": ".py",
   "mimetype": "text/x-python",
   "name": "python",
   "nbconvert_exporter": "python",
   "pygments_lexer": "ipython3",
   "version": "3.8.3"
  }
 },
 "nbformat": 4,
 "nbformat_minor": 2
}